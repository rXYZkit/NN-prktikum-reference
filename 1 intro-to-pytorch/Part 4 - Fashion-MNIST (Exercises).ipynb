{
 "cells": [
  {
   "cell_type": "markdown",
   "metadata": {},
   "source": [
    "# Classifying Fashion-MNIST\n",
    "现在轮到您构建和训练神经网络了。 您将使用Fashion-MNIST数据集[Fashion-MNIST dataset](https://github.com/zalandoresearch/fashion-mnist)，它是MNIST数据集的直接替代品。 MNIST实际上对于神经网络来说是trivial的，您可以轻松地获得优于97％的精度。 Fashion-MNIST是一组28x28灰度的衣服图像。 它比MNIST更复杂，因此可以更好地表示网络的实际性能，并且可以更好地表示您将在现实世界中使用的数据集。\n",
    "\n",
    "<img src='assets/fashion-mnist-sprite.png' width=500px>\n",
    "\n",
    "在此笔记本中，您将构建自己的神经网络。 虽然在大多数情况下，您可以直接复制并粘贴第3部分中的代码，但这对学习并没有帮助， 对您来说，自己编写代码并使之正常工作很重要。但在遇到困难时请随时查阅以前的笔记本。"
   ]
  },
  {
   "cell_type": "markdown",
   "metadata": {},
   "source": [
    "## 1. 首先，让我们从 `torchvision` 加载数据集"
   ]
  },
  {
   "cell_type": "code",
   "execution_count": 6,
   "metadata": {},
   "outputs": [],
   "source": [
    "import torch\n",
    "from torchvision import datasets, transforms\n",
    "import helper\n",
    "\n",
    "# Define a transform to normalize the data 定义一个转换以规范化数据\n",
    "transform = transforms.Compose([transforms.ToTensor(),\n",
    "                                transforms.Normalize((0.5,), (0.5,))])\n",
    "# Download and load the training data 下载并加载训练数据\n",
    "trainset = datasets.FashionMNIST('~/.pytorch/F_MNIST_data/', download=True, train=True, transform=transform)\n",
    "trainloader = torch.utils.data.DataLoader(trainset, batch_size=64, shuffle=True)\n",
    "\n",
    "# Download and load the test data 下载并加载测试数据\n",
    "testset = datasets.FashionMNIST('~/.pytorch/F_MNIST_data/', download=True, train=False, transform=transform)\n",
    "testloader = torch.utils.data.DataLoader(testset, batch_size=64, shuffle=True)"
   ]
  },
  {
   "cell_type": "markdown",
   "metadata": {},
   "source": [
    "提取查看其中一张图片one of the images."
   ]
  },
  {
   "cell_type": "code",
   "execution_count": 2,
   "metadata": {},
   "outputs": [
    {
     "data": {
      "image/png": "[encoded data removed]",
      "text/plain": [
       "<Figure size 432x288 with 1 Axes>"
      ]
     },
     "metadata": {
      "needs_background": "light"
     },
     "output_type": "display_data"
    }
   ],
   "source": [
    "image, label = next(iter(trainloader))\n",
    "helper.imshow(image[0,:]);"
   ]
  },
  {
   "cell_type": "markdown",
   "metadata": {},
   "source": [
    "## 2. Building the network -- 构建神经网络\n",
    "+ 首先输入图像的尺寸是28x28即784 pixels, 因此输入图像(torch.Size([64, 1, 28, 28]))需要 `flatten` 为(64, 784)\n",
    "+ 要求输出为 10 classes \n",
    "+ 任何网络至少包含1个隐藏层 -- 我决定第一个网络1个隐藏层，随后追加1个2个隐藏层的网络对比来看\n",
    "+ 这里建议 use **ReLU activations for the layers** and to return the **logits or log-softmax from the forward pass**"
   ]
  },
  {
   "cell_type": "markdown",
   "metadata": {},
   "source": [
    "[Q1] 需要导入哪些需要的包"
   ]
  },
  {
   "cell_type": "code",
   "execution_count": 9,
   "metadata": {},
   "outputs": [],
   "source": [
    "import torch\n",
    "from torch import nn\n",
    "from torch import optim"
   ]
  },
  {
   "cell_type": "code",
   "execution_count": 14,
   "metadata": {},
   "outputs": [
    {
     "name": "stdout",
     "output_type": "stream",
     "text": [
      "Training loss: 0.5270563408986592\n",
      "Training loss: 0.3949495333471278\n",
      "Training loss: 0.3580024973638276\n",
      "Training loss: 0.3350967939204372\n",
      "Training loss: 0.318219465924415\n"
     ]
    }
   ],
   "source": [
    "import torch\n",
    "from torch import nn\n",
    "from torch import optim\n",
    "\n",
    "input_size = 784\n",
    "hidden_sizes =[128, 64, 32]\n",
    "output_size = 10\n",
    "\n",
    "model2 = nn.Sequential(nn.Linear(input_size, hidden_sizes[0]),\n",
    "                      nn.ReLU(), \n",
    "                      nn.Linear(hidden_sizes[0], hidden_sizes[1]), \n",
    "                      nn.ReLU(),\n",
    "                      nn.Linear(hidden_sizes[1], hidden_sizes[2]), \n",
    "                      nn.ReLU(), \n",
    "                      nn.Linear(hidden_sizes[2], output_size), \n",
    "                      nn.LogSoftmax(dim=1))\n",
    "\n",
    "# nn.Seqiential() 式创建网络 \n",
    "criterion = nn.NLLLoss()\n",
    "optimizer = optim.Adam(model2.parameters(), lr=0.003)\n",
    "\n",
    "epoch = 5\n",
    "for e in range(epoch):\n",
    "    running_loss = 0\n",
    "    for images, labels in trainloader:\n",
    "        images = images.view(images.shape[0], -1)\n",
    "        optimizer.zero_grad()\n",
    "        \n",
    "        log_ps = model2(images)\n",
    "        loss = criterion(log_ps, labels)\n",
    "        \n",
    "        loss.backward()\n",
    "        \n",
    "        optimizer.step()\n",
    "        running_loss += loss.item()\n",
    "    else:\n",
    "        print(f\"Training loss: {running_loss/len(trainloader)}\")"
   ]
  },
  {
   "cell_type": "markdown",
   "metadata": {},
   "source": [
    "## 3. Train the network -- 训练神经网络\n",
    "\n",
    "+ 训练的第一件事是由神经网络的前向输出求出loss -- 定义loss函数>`criterion`[the criterion](http://pytorch.org/docs/master/nn.html#loss-functions) ( something like `nn.CrossEntropyLoss`)\n",
    "+ 求出 loss 后，反向传播计算梯度\n",
    "+ 定义 `optimizer` 指定优化方法 [the optimizer](http://pytorch.org/docs/master/optim.html) (typically `optim.SGD` or `optim.Adam`).\n",
    "+ 收尾：`optimizer.step()` 更新权重\n",
    "\n",
    "Then write the training code. Remember the training pass is a fairly straightforward process:\n",
    "\n",
    "* Make a forward pass through the network to get the logits \n",
    "* Use the logits to calculate the loss\n",
    "* Perform a backward pass through the network with `loss.backward()` to calculate the gradients\n",
    "* Take a step with the optimizer to update the weights\n",
    "通过调整超参数/hyperparameters(hidden units, learning rate, etc)，你应该可以得到小于0.4的训练损失。"
   ]
  },
  {
   "cell_type": "markdown",
   "metadata": {},
   "source": [
    "还有循环数据集的方法：\n",
    "+ 设置 `epoch=` -- 循环几次完整的训练集\n",
    " + `for images, labels in trainloader`: 读取1个batch\n",
    "   + 执行训练步骤"
   ]
  },
  {
   "cell_type": "code",
   "execution_count": 10,
   "metadata": {},
   "outputs": [
    {
     "name": "stdout",
     "output_type": "stream",
     "text": [
      "Training loss: 1.1764744931319628\n",
      "Training loss: 0.6920630608730988\n",
      "Training loss: 0.602398525200673\n",
      "Training loss: 0.5559056330400743\n",
      "Training loss: 0.5262641670988567\n"
     ]
    }
   ],
   "source": [
    "# TODO: Create the network, define the criterion and optimizer\n",
    "# 网络节点超参数\n",
    "input_size = 784\n",
    "hidden_sizes = [128] # 1个代表1层 [128, 64]代表两层\n",
    "output_size = 10\n",
    "\n",
    "# nn.Seqiential() 式创建网络 783 - 128 - 10\n",
    "model = nn.Sequential(nn.Linear(input_size, hidden_sizes[0]),\n",
    "                      nn.ReLU(),\n",
    "                      nn.Linear(hidden_sizes[0], output_size),\n",
    "                      nn.LogSoftmax(dim=1))\n",
    "\n",
    "criterion = nn.NLLLoss()\n",
    "optimizer = optim.SGD(model.parameters(), lr=0.003)\n",
    "\n",
    "# 开训\n",
    "epoch = 5\n",
    "for e in range(epoch):\n",
    "    running_loss = 0\n",
    "    for images, labels in trainloader:\n",
    "        #images = images.view(images[0], -1)\n",
    "        images = images.view(images.shape[0], -1)\n",
    "        optimizer.zero_grad()\n",
    "        \n",
    "        logits_output = model(images)\n",
    "        loss = criterion(logits_output, labels)\n",
    "        running_loss += loss.item()\n",
    "        \n",
    "        loss.backward()\n",
    "        \n",
    "        optimizer.step()\n",
    "    else:\n",
    "        print(f\"Training loss: {running_loss/len(trainloader)}\")"
   ]
  },
  {
   "cell_type": "code",
   "execution_count": 14,
   "metadata": {},
   "outputs": [
    {
     "name": "stdout",
     "output_type": "stream",
     "text": [
      "Sequential(\n",
      "  (0): Linear(in_features=784, out_features=128, bias=True)\n",
      "  (1): ReLU()\n",
      "  (2): Linear(in_features=128, out_features=64, bias=True)\n",
      "  (3): ReLU()\n",
      "  (4): Linear(in_features=64, out_features=10, bias=True)\n",
      "  (5): LogSoftmax()\n",
      ")\n",
      "Training loss: 1.632553737872699\n",
      "Training loss: 0.8402596181834431\n",
      "Training loss: 0.6783987193473621\n",
      "Training loss: 0.6143283315304754\n",
      "Training loss: 0.5731558393059509\n",
      "Training loss: 0.5421200076431862\n",
      "Training loss: 0.5174704093033317\n",
      "Training loss: 0.4973071367819426\n"
     ]
    }
   ],
   "source": [
    "# 2层隐藏层\n",
    "input_size = 784\n",
    "hidden_sizes = [128, 64]\n",
    "output_size = 10\n",
    "\n",
    "model2 = nn.Sequential(nn.Linear(input_size, hidden_sizes[0]),\n",
    "                       nn.ReLU(),\n",
    "                       nn.Linear(hidden_sizes[0], hidden_sizes[1]),\n",
    "                       nn.ReLU(), \n",
    "                       nn.Linear(hidden_sizes[1], output_size), \n",
    "                       nn.LogSoftmax(dim=1))\n",
    "print(model2)\n",
    "criterion = nn.NLLLoss()\n",
    "optimizer = optim.SGD(model2.parameters(), lr=0.003)\n",
    "\n",
    "# 开训\n",
    "epoch = 8\n",
    "for e in range(epoch):\n",
    "    running_loss = 0\n",
    "    for images, labels in trainloader:\n",
    "        images = images.view(images.shape[0], -1)\n",
    "        optimizer.zero_grad()\n",
    "        \n",
    "        logits_output = model2(images)\n",
    "        loss = criterion(logits_output, labels)\n",
    "        loss.backward()\n",
    "        optimizer.step()\n",
    "        \n",
    "        running_loss += loss.item()\n",
    "    else:\n",
    "        print(f\"Training loss: {running_loss/len(trainloader)}\")"
   ]
  },
  {
   "cell_type": "code",
   "execution_count": 15,
   "metadata": {},
   "outputs": [
    {
     "data": {
      "image/png": "[encoded data removed]",
      "text/plain": [
       "<Figure size 432x648 with 2 Axes>"
      ]
     },
     "metadata": {
      "image/png": {
       "height": 216,
       "width": 424
      },
      "needs_background": "light"
     },
     "output_type": "display_data"
    }
   ],
   "source": [
    "%matplotlib inline\n",
    "%config InlineBackend.figure_format = 'retina'\n",
    "\n",
    "import helper\n",
    "\n",
    "# Test out your network!\n",
    "\n",
    "dataiter = iter(testloader)  \n",
    "images, labels = dataiter.next() # 从测试集取1个images\n",
    "img = images[0]\n",
    "# Convert 2D image to 1D vector\n",
    "img = img.resize_(1, 784)\n",
    "\n",
    "# TODO: Calculate the class probabilities (softmax) for img\n",
    "torch.set_grad_enabled(False)\n",
    "ps = torch.exp(model2(img))\n",
    "\n",
    "# Plot the image and probabilities\n",
    "helper.view_classify(img.resize_(1, 28, 28), ps, version='Fashion')"
   ]
  }
 ],
 "metadata": {
  "kernelspec": {
   "display_name": "Python 3",
   "language": "python",
   "name": "python3"
  },
  "language_info": {
   "codemirror_mode": {
    "name": "ipython",
    "version": 3
   },
   "file_extension": ".py",
   "mimetype": "text/x-python",
   "name": "python",
   "nbconvert_exporter": "python",
   "pygments_lexer": "ipython3",
   "version": "3.6.12"
  }
 },
 "nbformat": 4,
 "nbformat_minor": 4
}
